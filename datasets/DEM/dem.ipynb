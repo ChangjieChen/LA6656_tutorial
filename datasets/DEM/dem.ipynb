{
 "metadata": {
  "language_info": {
   "codemirror_mode": {
    "name": "ipython",
    "version": 3
   },
   "file_extension": ".py",
   "mimetype": "text/x-python",
   "name": "python",
   "nbconvert_exporter": "python",
   "pygments_lexer": "ipython3",
   "version": "3.6.8-final"
  },
  "orig_nbformat": 2,
  "kernelspec": {
   "name": "python3",
   "display_name": "Python 3.6.8 64-bit",
   "metadata": {
    "interpreter": {
     "hash": "f7291e4b392a32fbfa525b87d1bbd0a3d888adf3d0deca0c205c61b9e7284b82"
    }
   }
  }
 },
 "nbformat": 4,
 "nbformat_minor": 2,
 "cells": [
  {
   "source": [
    "# Topography\n",
    "\n",
    "- the study of the forms and features of land surfaces\n",
    "- [not to be confused with Topology](http://geospatial-solutions.com/topology-is-not-topography/)\n",
    "\n",
    "## 1. [Digital Elevation Model (DEM)](https://pro.arcgis.com/en/pro-app/latest/tool-reference/spatial-analyst/exploring-digital-elevation-models.htm)\n",
    "\n",
    "- Data name: elevation_ft (value represents the number of feet above sea level)\n",
    "- A raster representation of a continuous surface.\n",
    "- Source: U.S. Geological Survey (USGS)\n",
    "- [Program: 3D Elevation Program (3DEP)](https://www.usgs.gov/core-science-systems/ngp/3dep/about-3dep-products-services?qt-science_support_page_related_con=0#qt-science_support_page_related_con)\n",
    "- The base information for creating the following three raster grids\n",
    "\n",
    "## 2. [Aspect](https://pro.arcgis.com/en/pro-app/latest/tool-reference/spatial-analyst/how-aspect-works.htm)\n",
    "\n",
    "- Data name: aspect2\n",
    "- Value:\n",
    "  - the direction the downhill slope faces\n",
    "  - ![aspect](aspect_value_range.gif)\n",
    "  - Flat areas are given a value of -1\n",
    "- Usage:\n",
    "  - flat surface (no downhills)\n",
    "  - all south facing locations (higher solar illumination)\n",
    "  - all north facing locations (quality ski runs)\n",
    "\n",
    "![aspect_dem](aspect_dem.png)\n",
    "\n",
    "## 3. [Hillshade](https://pro.arcgis.com/en/pro-app/latest/tool-reference/spatial-analyst/how-hillshade-works.htm)\n",
    "\n",
    "- Data name: hillshade\n",
    "- Value ranges from ($0-255$)\n",
    "  - 0: the darkest\n",
    "  - 255: the brightest\n",
    "- Usage: Mainly for visualization purposes\n",
    "- Two parameters\n",
    "  - Azimuth ($315^{\\circ}$ by default)\n",
    "  - ![azimuth](hillshade_azimuth.gif)\n",
    "  - Altitude ($45^{\\circ}$ by default)\n",
    "  - ![altitude](hillshade_altitude.gif)\n",
    "\n",
    "## 4. [Slope](https://pro.arcgis.com/en/pro-app/latest/tool-reference/spatial-analyst/how-slope-works.htm)\n",
    "\n",
    "- Data name: slope_ps\n",
    "- Value ranges from ($0-{\\infty}$)\n",
    "- Illustration:\n",
    "- ![slope_ps](slope_percent_rise.gif)"
   ],
   "cell_type": "markdown",
   "metadata": {}
  }
 ]
}